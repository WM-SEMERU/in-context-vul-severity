{
 "cells": [
  {
   "cell_type": "code",
   "execution_count": 6,
   "metadata": {},
   "outputs": [],
   "source": [
    "import spacy\n",
    "from spacy import displacy\n",
    "from collections import Counter\n",
    "import pandas as pd"
   ]
  },
  {
   "cell_type": "code",
   "execution_count": 7,
   "metadata": {},
   "outputs": [
    {
     "name": "stdout",
     "output_type": "stream",
     "text": [
      "Collecting en-core-web-sm==3.7.1\n",
      "  Downloading https://github.com/explosion/spacy-models/releases/download/en_core_web_sm-3.7.1/en_core_web_sm-3.7.1-py3-none-any.whl (12.8 MB)\n",
      "\u001b[2K     \u001b[90m━━━━━━━━━━━━━━━━━━━━━━━━━━━━━━━━━━━━━━━━\u001b[0m \u001b[32m12.8/12.8 MB\u001b[0m \u001b[31m87.0 MB/s\u001b[0m eta \u001b[36m0:00:00\u001b[0ma \u001b[36m0:00:01\u001b[0m\n",
      "\u001b[?25hRequirement already satisfied: spacy<3.8.0,>=3.7.2 in /usr/local/lib/python3.8/dist-packages (from en-core-web-sm==3.7.1) (3.7.4)\n",
      "Requirement already satisfied: spacy-legacy<3.1.0,>=3.0.11 in /usr/local/lib/python3.8/dist-packages (from spacy<3.8.0,>=3.7.2->en-core-web-sm==3.7.1) (3.0.12)\n",
      "Requirement already satisfied: spacy-loggers<2.0.0,>=1.0.0 in /usr/local/lib/python3.8/dist-packages (from spacy<3.8.0,>=3.7.2->en-core-web-sm==3.7.1) (1.0.5)\n",
      "Requirement already satisfied: murmurhash<1.1.0,>=0.28.0 in /usr/local/lib/python3.8/dist-packages (from spacy<3.8.0,>=3.7.2->en-core-web-sm==3.7.1) (1.0.10)\n",
      "Requirement already satisfied: cymem<2.1.0,>=2.0.2 in /usr/local/lib/python3.8/dist-packages (from spacy<3.8.0,>=3.7.2->en-core-web-sm==3.7.1) (2.0.8)\n",
      "Requirement already satisfied: preshed<3.1.0,>=3.0.2 in /usr/local/lib/python3.8/dist-packages (from spacy<3.8.0,>=3.7.2->en-core-web-sm==3.7.1) (3.0.9)\n",
      "Requirement already satisfied: thinc<8.3.0,>=8.2.2 in /usr/local/lib/python3.8/dist-packages (from spacy<3.8.0,>=3.7.2->en-core-web-sm==3.7.1) (8.2.3)\n",
      "Requirement already satisfied: wasabi<1.2.0,>=0.9.1 in /usr/local/lib/python3.8/dist-packages (from spacy<3.8.0,>=3.7.2->en-core-web-sm==3.7.1) (1.1.2)\n",
      "Requirement already satisfied: srsly<3.0.0,>=2.4.3 in /usr/local/lib/python3.8/dist-packages (from spacy<3.8.0,>=3.7.2->en-core-web-sm==3.7.1) (2.4.8)\n",
      "Requirement already satisfied: catalogue<2.1.0,>=2.0.6 in /usr/local/lib/python3.8/dist-packages (from spacy<3.8.0,>=3.7.2->en-core-web-sm==3.7.1) (2.0.10)\n",
      "Requirement already satisfied: weasel<0.4.0,>=0.1.0 in /usr/local/lib/python3.8/dist-packages (from spacy<3.8.0,>=3.7.2->en-core-web-sm==3.7.1) (0.3.4)\n",
      "Requirement already satisfied: typer<0.10.0,>=0.3.0 in /usr/local/lib/python3.8/dist-packages (from spacy<3.8.0,>=3.7.2->en-core-web-sm==3.7.1) (0.9.4)\n",
      "Requirement already satisfied: smart-open<7.0.0,>=5.2.1 in /usr/local/lib/python3.8/dist-packages (from spacy<3.8.0,>=3.7.2->en-core-web-sm==3.7.1) (6.4.0)\n",
      "Requirement already satisfied: tqdm<5.0.0,>=4.38.0 in /usr/local/lib/python3.8/dist-packages (from spacy<3.8.0,>=3.7.2->en-core-web-sm==3.7.1) (4.66.2)\n",
      "Requirement already satisfied: requests<3.0.0,>=2.13.0 in /usr/lib/python3/dist-packages (from spacy<3.8.0,>=3.7.2->en-core-web-sm==3.7.1) (2.22.0)\n",
      "Requirement already satisfied: pydantic!=1.8,!=1.8.1,<3.0.0,>=1.7.4 in /usr/local/lib/python3.8/dist-packages (from spacy<3.8.0,>=3.7.2->en-core-web-sm==3.7.1) (2.6.4)\n",
      "Requirement already satisfied: jinja2 in /usr/local/lib/python3.8/dist-packages (from spacy<3.8.0,>=3.7.2->en-core-web-sm==3.7.1) (3.1.2)\n",
      "Requirement already satisfied: setuptools in /usr/local/lib/python3.8/dist-packages (from spacy<3.8.0,>=3.7.2->en-core-web-sm==3.7.1) (65.3.0)\n",
      "Requirement already satisfied: packaging>=20.0 in /usr/local/lib/python3.8/dist-packages (from spacy<3.8.0,>=3.7.2->en-core-web-sm==3.7.1) (21.3)\n",
      "Requirement already satisfied: langcodes<4.0.0,>=3.2.0 in /usr/local/lib/python3.8/dist-packages (from spacy<3.8.0,>=3.7.2->en-core-web-sm==3.7.1) (3.3.0)\n",
      "Requirement already satisfied: numpy>=1.15.0 in /usr/local/lib/python3.8/dist-packages (from spacy<3.8.0,>=3.7.2->en-core-web-sm==3.7.1) (1.23.2)\n",
      "Requirement already satisfied: pyparsing!=3.0.5,>=2.0.2 in /usr/local/lib/python3.8/dist-packages (from packaging>=20.0->spacy<3.8.0,>=3.7.2->en-core-web-sm==3.7.1) (3.0.9)\n",
      "Requirement already satisfied: annotated-types>=0.4.0 in /usr/local/lib/python3.8/dist-packages (from pydantic!=1.8,!=1.8.1,<3.0.0,>=1.7.4->spacy<3.8.0,>=3.7.2->en-core-web-sm==3.7.1) (0.6.0)\n",
      "Requirement already satisfied: pydantic-core==2.16.3 in /usr/local/lib/python3.8/dist-packages (from pydantic!=1.8,!=1.8.1,<3.0.0,>=1.7.4->spacy<3.8.0,>=3.7.2->en-core-web-sm==3.7.1) (2.16.3)\n",
      "Requirement already satisfied: typing-extensions>=4.6.1 in /usr/local/lib/python3.8/dist-packages (from pydantic!=1.8,!=1.8.1,<3.0.0,>=1.7.4->spacy<3.8.0,>=3.7.2->en-core-web-sm==3.7.1) (4.10.0)\n",
      "Requirement already satisfied: blis<0.8.0,>=0.7.8 in /usr/local/lib/python3.8/dist-packages (from thinc<8.3.0,>=8.2.2->spacy<3.8.0,>=3.7.2->en-core-web-sm==3.7.1) (0.7.11)\n",
      "Requirement already satisfied: confection<1.0.0,>=0.0.1 in /usr/local/lib/python3.8/dist-packages (from thinc<8.3.0,>=8.2.2->spacy<3.8.0,>=3.7.2->en-core-web-sm==3.7.1) (0.1.4)\n",
      "Requirement already satisfied: click<9.0.0,>=7.1.1 in /usr/local/lib/python3.8/dist-packages (from typer<0.10.0,>=0.3.0->spacy<3.8.0,>=3.7.2->en-core-web-sm==3.7.1) (8.1.7)\n",
      "Requirement already satisfied: cloudpathlib<0.17.0,>=0.7.0 in /usr/local/lib/python3.8/dist-packages (from weasel<0.4.0,>=0.1.0->spacy<3.8.0,>=3.7.2->en-core-web-sm==3.7.1) (0.16.0)\n",
      "Requirement already satisfied: MarkupSafe>=2.0 in /usr/local/lib/python3.8/dist-packages (from jinja2->spacy<3.8.0,>=3.7.2->en-core-web-sm==3.7.1) (2.1.1)\n",
      "\u001b[33mWARNING: Running pip as the 'root' user can result in broken permissions and conflicting behaviour with the system package manager. It is recommended to use a virtual environment instead: https://pip.pypa.io/warnings/venv\u001b[0m\u001b[33m\n",
      "\u001b[0m\n",
      "\u001b[1m[\u001b[0m\u001b[34;49mnotice\u001b[0m\u001b[1;39;49m]\u001b[0m\u001b[39;49m A new release of pip is available: \u001b[0m\u001b[31;49m24.0\u001b[0m\u001b[39;49m -> \u001b[0m\u001b[32;49m24.1.2\u001b[0m\n",
      "\u001b[1m[\u001b[0m\u001b[34;49mnotice\u001b[0m\u001b[1;39;49m]\u001b[0m\u001b[39;49m To update, run: \u001b[0m\u001b[32;49mpython -m pip install --upgrade pip\u001b[0m\n",
      "\u001b[38;5;2m✔ Download and installation successful\u001b[0m\n",
      "You can now load the package via spacy.load('en_core_web_sm')\n"
     ]
    }
   ],
   "source": [
    "!python -m spacy download en_core_web_sm"
   ]
  },
  {
   "cell_type": "code",
   "execution_count": 8,
   "metadata": {},
   "outputs": [],
   "source": [
    "nlp = spacy.load('en_core_web_sm')"
   ]
  },
  {
   "cell_type": "code",
   "execution_count": 9,
   "metadata": {},
   "outputs": [],
   "source": [
    "text = \"And now for something completely different a book\""
   ]
  },
  {
   "cell_type": "code",
   "execution_count": 10,
   "metadata": {},
   "outputs": [],
   "source": [
    "def tag_words(sentence, pos_tags = dict()):\n",
    "    document = nlp(sentence)\n",
    "    \n",
    "    filtered_corpus = [words for words in document if not words.is_stop]\n",
    "    \n",
    "    word_tags = set(words.pos_ for words in filtered_corpus)\n",
    "    keys_set = set(pos_tags.keys())\n",
    "    keys_set = word_tags - keys_set\n",
    "    pos_tags.update({key:[] for key in keys_set})\n",
    "    for words in filtered_corpus:\n",
    "        pos_tags[words.pos_].append(words.text)\n",
    "    return pos_tags"
   ]
  },
  {
   "cell_type": "code",
   "execution_count": 11,
   "metadata": {},
   "outputs": [],
   "source": [
    "def calculate_frequencies(pos_tags):\n",
    "    tags_count = {key:len(value) for key, value in pos_tags.items()}\n",
    "    tags_freq = {key: Counter(value).most_common() for key, value in pos_tags.items()}\n",
    "    #pos_tags = [(words.text, words.pos_) for words in filtered_corpus]\n",
    "    return tags_count, tags_freq"
   ]
  },
  {
   "cell_type": "code",
   "execution_count": 12,
   "metadata": {},
   "outputs": [],
   "source": [
    "#Make a function to get all two-word combinations\n",
    "def get_bigrams(word_list, number_consecutive_words=2):\n",
    "    \n",
    "    ngrams = []\n",
    "    adj_length_of_word_list = len(word_list) - (number_consecutive_words - 1)\n",
    "    \n",
    "    #Loop through numbers from 0 to the (slightly adjusted) length of your word list\n",
    "    for word_index in range(adj_length_of_word_list):\n",
    "        \n",
    "        #Index the list at each number, grabbing the word at that number index as well as N number of words after it\n",
    "        ngram = word_list[word_index : word_index + number_consecutive_words]\n",
    "        \n",
    "        #Append this word combo to the master list \"ngrams\"\n",
    "        ngrams.append(ngram)\n",
    "        \n",
    "    return ngrams"
   ]
  },
  {
   "cell_type": "code",
   "execution_count": 13,
   "metadata": {},
   "outputs": [],
   "source": [
    "def get_neighbor_words(keyword, bigrams, pos_label = None):\n",
    "    \n",
    "    neighbor_words = []\n",
    "    keyword = keyword.lower()\n",
    "    \n",
    "    for bigram in bigrams:\n",
    "        \n",
    "        #Extract just the lowercased words (not the labels) for each bigram\n",
    "        words = [word.lower() for word, label in bigram]        \n",
    "        \n",
    "        #Check to see if keyword is in the bigram\n",
    "        if keyword in words:\n",
    "            \n",
    "            for word, label in bigram:\n",
    "                \n",
    "                #Now focus on the neighbor word, not the keyword\n",
    "                if word.lower() != keyword:\n",
    "                    #If the neighbor word matches the right pos_label, append it to the master list\n",
    "                    if label == pos_label or pos_label == None:\n",
    "                        neighbor_words.append(word.lower())\n",
    "    \n",
    "    return Counter(neighbor_words).most_common()"
   ]
  },
  {
   "cell_type": "code",
   "execution_count": 14,
   "metadata": {},
   "outputs": [],
   "source": [
    "import numpy as np\n",
    "from sklearn.impute import SimpleImputer\n",
    "import re\n",
    "\n"
   ]
  },
  {
   "cell_type": "code",
   "execution_count": 15,
   "metadata": {},
   "outputs": [],
   "source": [
    "def extract_score_only(sentence):\n",
    "    pattern = r\"[-+]?\\d*\\.\\d+|\\d+\"\n",
    "    # Extract float numbers from the sentence using findall method\n",
    "    float_numbers = re.findall(pattern, sentence)\n",
    "\n",
    "    # Convert the extracted strings to float numbers\n",
    "    float_numbers = [float(num) for num in float_numbers]\n",
    "    if not float_numbers:\n",
    "        return [np.nan]\n",
    "    return float_numbers\n"
   ]
  },
  {
   "cell_type": "code",
   "execution_count": 16,
   "metadata": {},
   "outputs": [],
   "source": [
    "def compute_mse_median(data):\n",
    "    avg = []\n",
    "    std = []\n",
    "    gt_scores= []\n",
    "    pos_tags = dict()\n",
    "    for i in data:\n",
    "        \n",
    "        gt_score = i['gt_score']\n",
    "        if np.isnan(gt_score):\n",
    "            continue\n",
    "        scores = []\n",
    "        gt_scores.append(gt_score)\n",
    "        for chat in i['chats']:\n",
    "            #for statement in chat:\n",
    "            statement = chat[-1]\n",
    "            prediction = statement['content']\n",
    "            pos_tags = tag_words(prediction, pos_tags)\n",
    "            score = extract_score_only(prediction)\n",
    "            scores.append(score[0])\n",
    "        \n",
    "        squared_errors = np.array([(x - gt_score) ** 2 for x in scores])\n",
    "        #print(squared_errors)\n",
    "        arr_mean = np.nanmedian(squared_errors)\n",
    "        #print(arr_mean)\n",
    "        squared_errors[np.isnan(squared_errors)] = arr_mean\n",
    "        print(squared_errors)\n",
    "        #imputer = SimpleImputer(strategy='mean')\n",
    "        #imputer.fit(squared_errors)\n",
    "        #Xtrans = imputer.transform(squared_errors)\n",
    "        #print(Xtrans.flatten())\n",
    "        #err_mean = np.nanmean(squared_errors)\n",
    "        #squared_errors[np.isnan(squared_errors)] = err_mean\n",
    "        # Calculate average (mean)\n",
    "        avg.append(np.median(squared_errors))\n",
    "\n",
    "        # Calculate standard deviation\n",
    "        std.append(np.std(squared_errors))\n",
    "\n",
    "    return avg, std, gt_scores, pos_tags\n",
    "        # Print the results\n",
    "        #print(\"Average:\", avg)\n",
    "        #print(\"Standard Deviation:\", std)\n",
    "        #print(squared_errors)"
   ]
  },
  {
   "cell_type": "code",
   "execution_count": 17,
   "metadata": {},
   "outputs": [],
   "source": [
    "def compute_mse_feasible(data):\n",
    "    avg = []\n",
    "    std = []\n",
    "    e_scores=[]\n",
    "    gt_scores= []\n",
    "    non_feasible_count=0\n",
    "    out_range=0\n",
    "    pos_tags = dict()\n",
    "    count_scores=0\n",
    "    for i in data:\n",
    "        \n",
    "        gt_score = i['gt_score']\n",
    "        if np.isnan(gt_score):\n",
    "            continue\n",
    "        scores = []\n",
    "        gt_scores.append(gt_score)\n",
    "        for chat in i['chats']:\n",
    "            #for statement in chat:\n",
    "            statement = chat[-1]\n",
    "            prediction = statement['content']\n",
    "            pos_tags = tag_words(prediction, pos_tags)\n",
    "            score = extract_score_only(prediction)\n",
    "            scores.append(score[0])\n",
    "        last_chat =  i['chats'][-1]\n",
    "        for statement in last_chat[1:-2]:\n",
    "            if statement['role']=='user':\n",
    "                prediction = statement['content']\n",
    "                score = extract_score_only(prediction)\n",
    "                #print(score)\n",
    "                e_scores.append(score[0])\n",
    "        squared_errors = np.array([(x - gt_score) ** 2 for x in scores if x>=0.0 and x<=10.0])\n",
    "\n",
    "        count_scores=count_scores+len(scores)\n",
    "        out_range=out_range+ sum(1 for x in scores if x < 0.0 or x > 10.0)\n",
    "        #print(squared_errors)\n",
    "        arr_mean = np.nanmedian(squared_errors)\n",
    "        non_feasible_count = non_feasible_count+np.isnan(squared_errors).sum()\n",
    "        #print(arr_mean)\n",
    "        squared_errors[np.isnan(squared_errors)] = arr_mean\n",
    "        #print(squared_errors)\n",
    "        \n",
    "        #imputer = SimpleImputer(strategy='mean')\n",
    "        #imputer.fit(squared_errors)\n",
    "        #Xtrans = imputer.transform(squared_errors)\n",
    "        #print(Xtrans.flatten())\n",
    "        #err_mean = np.nanmean(squared_errors)\n",
    "        #squared_errors[np.isnan(squared_errors)] = err_mean\n",
    "        # Calculate average (mean)\n",
    "        avg.append(np.mean(squared_errors))\n",
    "\n",
    "        # Calculate standard deviation\n",
    "        std.append(np.std(squared_errors))\n",
    "\n",
    "    return avg, std, gt_scores, pos_tags, non_feasible_count, e_scores, out_range,count_scores\n",
    "        # Print the results\n",
    "        #print(\"Average:\", avg)\n",
    "        #print(\"Standard Deviation:\", std)\n",
    "        #print(squared_errors)\n"
   ]
  },
  {
   "cell_type": "code",
   "execution_count": 18,
   "metadata": {},
   "outputs": [],
   "source": [
    "import json \n",
    "file_path = \"../datax/cisco_predictions/prototype_3/P2/Mistral/2024_07_16_00_19_28_100_30_0_Mistral7b_P2.txt\"#\"2024_04_05_05_24_39_100_30_2_Mistral7b.txt\"#2024_04_03_20_04_21_300_30_2_codeLlama7b.txtt\" #\"2024_04_04_11_49_29_300_30_1_codeLlama7b.txt\"#2024_04_03_20_04_21_300_30_2_codeLlama7b.txt\"#\"2024_04_03_23_47_43_300_30_0_codeLlama7b.txt\" #\"2024_04_03_20_04_21_300_30_2_codeLlama7b.txt\"\n",
    "with open(file_path, \"r\") as file:\n",
    "    data = json.load(file)"
   ]
  },
  {
   "cell_type": "code",
   "execution_count": 19,
   "metadata": {},
   "outputs": [
    {
     "data": {
      "text/plain": [
       "298"
      ]
     },
     "execution_count": 19,
     "metadata": {},
     "output_type": "execute_result"
    }
   ],
   "source": [
    "len(data)"
   ]
  },
  {
   "cell_type": "code",
   "execution_count": 20,
   "metadata": {},
   "outputs": [],
   "source": [
    "#avg, std, gt_scores, pos_tags = compute_mse_median(data)"
   ]
  },
  {
   "cell_type": "code",
   "execution_count": 21,
   "metadata": {},
   "outputs": [
    {
     "name": "stderr",
     "output_type": "stream",
     "text": [
      "/usr/local/lib/python3.8/dist-packages/numpy/lib/nanfunctions.py:1215: RuntimeWarning: Mean of empty slice\n",
      "  return np.nanmean(a, axis, out=out, keepdims=keepdims)\n",
      "/usr/local/lib/python3.8/dist-packages/numpy/core/fromnumeric.py:3432: RuntimeWarning: Mean of empty slice.\n",
      "  return _methods._mean(a, axis=axis, dtype=dtype,\n",
      "/usr/local/lib/python3.8/dist-packages/numpy/core/_methods.py:190: RuntimeWarning: invalid value encountered in double_scalars\n",
      "  ret = ret.dtype.type(ret / rcount)\n",
      "/usr/local/lib/python3.8/dist-packages/numpy/core/_methods.py:265: RuntimeWarning: Degrees of freedom <= 0 for slice\n",
      "  ret = _var(a, axis=axis, dtype=dtype, out=out, ddof=ddof,\n",
      "/usr/local/lib/python3.8/dist-packages/numpy/core/_methods.py:223: RuntimeWarning: invalid value encountered in divide\n",
      "  arrmean = um.true_divide(arrmean, div, out=arrmean, casting='unsafe',\n",
      "/usr/local/lib/python3.8/dist-packages/numpy/core/_methods.py:257: RuntimeWarning: invalid value encountered in double_scalars\n",
      "  ret = ret.dtype.type(ret / rcount)\n"
     ]
    }
   ],
   "source": [
    "avg, std, gt_scores, pos_tags, non_feasible_count, e_scores, out_range,count_scores = compute_mse_feasible(data)"
   ]
  },
  {
   "cell_type": "code",
   "execution_count": 22,
   "metadata": {},
   "outputs": [
    {
     "data": {
      "text/plain": [
       "37.50485031033224"
      ]
     },
     "execution_count": 22,
     "metadata": {},
     "output_type": "execute_result"
    }
   ],
   "source": [
    "np.nanmean(avg)"
   ]
  },
  {
   "cell_type": "code",
   "execution_count": 23,
   "metadata": {},
   "outputs": [
    {
     "data": {
      "text/plain": [
       "0.7051104485233588"
      ]
     },
     "execution_count": 23,
     "metadata": {},
     "output_type": "execute_result"
    }
   ],
   "source": [
    "np.nanmean(std)"
   ]
  },
  {
   "cell_type": "code",
   "execution_count": 24,
   "metadata": {},
   "outputs": [
    {
     "data": {
      "text/plain": [
       "39"
      ]
     },
     "execution_count": 24,
     "metadata": {},
     "output_type": "execute_result"
    }
   ],
   "source": [
    "out_range"
   ]
  },
  {
   "cell_type": "code",
   "execution_count": 25,
   "metadata": {},
   "outputs": [
    {
     "data": {
      "text/plain": [
       "0.00436241610738255"
      ]
     },
     "execution_count": 25,
     "metadata": {},
     "output_type": "execute_result"
    }
   ],
   "source": [
    "out_range/count_scores"
   ]
  },
  {
   "cell_type": "code",
   "execution_count": 26,
   "metadata": {},
   "outputs": [
    {
     "data": {
      "text/plain": [
       "0"
      ]
     },
     "execution_count": 26,
     "metadata": {},
     "output_type": "execute_result"
    }
   ],
   "source": [
    "non_feasible_count"
   ]
  },
  {
   "cell_type": "code",
   "execution_count": 27,
   "metadata": {},
   "outputs": [
    {
     "data": {
      "text/plain": [
       "[]"
      ]
     },
     "execution_count": 27,
     "metadata": {},
     "output_type": "execute_result"
    }
   ],
   "source": [
    "e_scores"
   ]
  },
  {
   "cell_type": "code",
   "execution_count": 28,
   "metadata": {},
   "outputs": [
    {
     "data": {
      "text/plain": [
       "nan"
      ]
     },
     "execution_count": 28,
     "metadata": {},
     "output_type": "execute_result"
    }
   ],
   "source": [
    "np.mean(e_scores)"
   ]
  },
  {
   "cell_type": "code",
   "execution_count": 29,
   "metadata": {},
   "outputs": [
    {
     "data": {
      "text/plain": [
       "nan"
      ]
     },
     "execution_count": 29,
     "metadata": {},
     "output_type": "execute_result"
    }
   ],
   "source": [
    "np.std(e_scores)"
   ]
  },
  {
   "cell_type": "code",
   "execution_count": 30,
   "metadata": {},
   "outputs": [
    {
     "data": {
      "text/plain": [
       "0.4429530201342282"
      ]
     },
     "execution_count": 30,
     "metadata": {},
     "output_type": "execute_result"
    }
   ],
   "source": [
    "nan_count = np.isnan(avg).sum()\n",
    "non_feasible = nan_count/ len(avg)\n",
    "non_feasible"
   ]
  },
  {
   "cell_type": "code",
   "execution_count": 31,
   "metadata": {},
   "outputs": [
    {
     "data": {
      "text/plain": [
       "6.204362416107382"
      ]
     },
     "execution_count": 31,
     "metadata": {},
     "output_type": "execute_result"
    }
   ],
   "source": [
    "np.mean(gt_scores)"
   ]
  },
  {
   "cell_type": "code",
   "execution_count": 32,
   "metadata": {},
   "outputs": [
    {
     "data": {
      "text/plain": [
       "1.8069072624879634"
      ]
     },
     "execution_count": 32,
     "metadata": {},
     "output_type": "execute_result"
    }
   ],
   "source": [
    "np.std(gt_scores)"
   ]
  },
  {
   "cell_type": "code",
   "execution_count": 251,
   "metadata": {},
   "outputs": [],
   "source": [
    "a, b =calculate_frequencies(pos_tags)"
   ]
  },
  {
   "cell_type": "code",
   "execution_count": 108,
   "metadata": {},
   "outputs": [],
   "source": [
    "a=dict(list(a.items())[:5])"
   ]
  },
  {
   "cell_type": "code",
   "execution_count": 109,
   "metadata": {},
   "outputs": [],
   "source": [
    "import matplotlib.pyplot as plt\n"
   ]
  },
  {
   "cell_type": "code",
   "execution_count": 18,
   "metadata": {},
   "outputs": [
    {
     "data": {
      "text/plain": [
       "{'NOUN': [('snippet', 9705),\n",
       "  ('score', 9274),\n",
       "  ('vulnerability', 521),\n",
       "  ('code', 504),\n",
       "  ('vulner', 442),\n",
       "  ('sever', 372),\n",
       "  ('function', 311),\n",
       "  ('risk', 241),\n",
       "  ('severity', 178),\n",
       "  ('buffer', 108),\n",
       "  ('base', 87),\n",
       "  ('vulnerabilities', 64),\n",
       "  ('overflow', 61),\n",
       "  ('CV', 58),\n",
       "  ('Medium', 55),\n",
       "  ('memory', 54),\n",
       "  ('security', 45),\n",
       "  ('vector', 44),\n",
       "  ('potential', 44),\n",
       "  ('medium', 44),\n",
       "  ('use', 35),\n",
       "  ('destruct', 32),\n",
       "  ('method', 29),\n",
       "  ('se', 27),\n",
       "  ('high-', 22),\n",
       "  ('level', 22),\n",
       "  ('9.8.</s', 21),\n",
       "  ('attack', 19),\n",
       "  ('destructor', 18),\n",
       "  ('AV', 17),\n",
       "  ('information', 17),\n",
       "  ('constructor', 15),\n",
       "  ('rating', 14),\n",
       "  ('impact', 14),\n",
       "  ('CVSS:3', 13),\n",
       "  ('safety', 12),\n",
       "  ('class', 12),\n",
       "  ('definition', 10),\n",
       "  ('issues', 10),\n",
       "  ('reason', 9),\n",
       "  ('leak', 9),\n",
       "  ('pointer', 9),\n",
       "  ('factors', 9),\n",
       "  ('DocumentLoader::stopLoadingSubresources', 9),\n",
       "  ('CVSS', 8),\n",
       "  ('int', 7),\n",
       "  ('kernel', 7),\n",
       "  ('10.0.</s', 7),\n",
       "  ('issue', 6),\n",
       "  ('ben', 6),\n",
       "  ('test', 6),\n",
       "  ('value', 6),\n",
       "  ('moder', 6),\n",
       "  ('explo', 5),\n",
       "  ('declaration', 5),\n",
       "  ('type', 5),\n",
       "  ('legit', 5),\n",
       "  ('_', 5),\n",
       "  ('fact', 5),\n",
       "  ('gpk_restore_security_env', 5),\n",
       "  ('justification', 5),\n",
       "  ('Base', 5),\n",
       "  ('onig_get_options', 5),\n",
       "  ('flags', 4),\n",
       "  ('factor', 4),\n",
       "  ('criteria', 4),\n",
       "  ('implementation', 4),\n",
       "  ('exploits', 4),\n",
       "  ('C', 4),\n",
       "  ('har', 4),\n",
       "  ('heap', 4),\n",
       "  ('dis', 4),\n",
       "  ('Camera3Device::getId', 4),\n",
       "  ('stub', 4),\n",
       "  ('low.</s', 4),\n",
       "  ('non', 4),\n",
       "  ('return', 3),\n",
       "  ('exploit', 3),\n",
       "  ('use-', 3),\n",
       "  ('unit', 3),\n",
       "  ('score.</s', 3),\n",
       "  ('details', 3),\n",
       "  ('following', 3),\n",
       "  ('*', 3),\n",
       "  ('v', 3),\n",
       "  ('static', 3),\n",
       "  ('string', 3),\n",
       "  ('example', 3),\n",
       "  ('risks', 3),\n",
       "  ('frameCount', 3),\n",
       "  ('imp', 3),\n",
       "  ('stack', 3),\n",
       "  ('ris', 3),\n",
       "  ('number', 3),\n",
       "  ('cor', 3),\n",
       "  ('UsbTransferFunction::~UsbTransfer', 3),\n",
       "  ('getter', 2),\n",
       "  ('const', 2),\n",
       "  ('integer', 2),\n",
       "  ('version', 2),\n",
       "  ('attacks', 2),\n",
       "  ('case', 2),\n",
       "  ('SoundChannel::init', 2),\n",
       "  ('C++', 2),\n",
       "  ('member', 2),\n",
       "  ('metric', 2),\n",
       "  ('CL_ClientDamageCommand', 2),\n",
       "  ('Textfield::GetTextInputFlags', 2),\n",
       "  ('null', 2),\n",
       "  ('piece', 2),\n",
       "  ('RemoveHistoryTester', 2),\n",
       "  ('m_frameCount', 2),\n",
       "  ('-', 2),\n",
       "  ('path_put', 2),\n",
       "  ('path', 2),\n",
       "  ('clientHasPendingReplies(client', 2),\n",
       "  ('c', 2),\n",
       "  ('language', 2),\n",
       "  ('model', 2),\n",
       "  ('comment', 2),\n",
       "  ('explanation', 2),\n",
       "  ('macro', 2),\n",
       "  ('wrapper', 2),\n",
       "  ('HTMLMediaElement::SetSrc', 2),\n",
       "  ('analysis', 2),\n",
       "  ('V', 1),\n",
       "  ('innoc', 1),\n",
       "  ('real-', 1),\n",
       "  ('reasons', 1),\n",
       "  ('str_init', 1),\n",
       "  ('keyword', 1),\n",
       "  ('instruction', 1),\n",
       "  ('multiplication', 1),\n",
       "  ('denial', 1),\n",
       "  ('exploitable', 1),\n",
       "  ('codebase', 1),\n",
       "  ('data', 1),\n",
       "  ('practice', 1),\n",
       "  ('g', 1),\n",
       "  ('~Mock', 1),\n",
       "  ('NULL', 1),\n",
       "  ('Severity', 1),\n",
       "  ('Open', 1),\n",
       "  ('confusion', 1),\n",
       "  ('Browser', 1),\n",
       "  ('webkit', 1),\n",
       "  ('image', 1),\n",
       "  ('Xcursor', 1),\n",
       "  ('criticality', 1),\n",
       "  ('check', 1),\n",
       "  ('struct', 1),\n",
       "  ('untr', 1),\n",
       "  ('smbXcli_conn_remote_name', 1),\n",
       "  ('f', 1),\n",
       "  ('isidchar', 1),\n",
       "  ('errors', 1),\n",
       "  ('dut_mode_rec', 1),\n",
       "  ('dereference', 1),\n",
       "  ('dut', 1),\n",
       "  ('scores', 1),\n",
       "  ('controller', 1),\n",
       "  ('BackendIO::DoomAllEntries', 1),\n",
       "  ('arch_ftrace_update_code', 1),\n",
       "  ('sus', 1),\n",
       "  ('frame', 1),\n",
       "  ('is_main', 1),\n",
       "  ('Histogram::Add', 1),\n",
       "  ('reasoning', 1),\n",
       "  ('presence', 1),\n",
       "  ('public', 1),\n",
       "  ('fict', 1),\n",
       "  ('Crit', 1),\n",
       "  ('is_delimiter', 1),\n",
       "  ('will_process', 1),\n",
       "  ('path_put(struct', 1),\n",
       "  ('char', 1),\n",
       "  ('array', 1),\n",
       "  ('pointers', 1),\n",
       "  ('Information', 1),\n",
       "  ('scoring', 1),\n",
       "  ('system', 1),\n",
       "  ('9.6.</s', 1),\n",
       "  ('context', 1),\n",
       "  ('Ch', 1),\n",
       "  ('ChromeContentRendererClient::~ChromeContentRenderer', 1),\n",
       "  ('threats', 1),\n",
       "  ('elements', 1),\n",
       "  ('indication', 1),\n",
       "  ('extension', 1),\n",
       "  ('execution', 1),\n",
       "  ('subsc', 1),\n",
       "  ('gf_mktime_utc', 1),\n",
       "  ('Memory', 1),\n",
       "  ('ImmersiveFullscreenController', 1),\n",
       "  ('TabStripModel', 1),\n",
       "  ('XSS', 1),\n",
       "  ('disclosure', 1),\n",
       "  ('attacker', 1),\n",
       "  ('unr', 1),\n",
       "  ('jbig2_get_int16', 1),\n",
       "  ('complexity', 1),\n",
       "  ('signature', 1),\n",
       "  ('va_arg', 1),\n",
       "  ('custom', 1),\n",
       "  ('emergency_restart', 1),\n",
       "  ('emergency', 1),\n",
       "  ('r', 1),\n",
       "  ('placeholder', 1),\n",
       "  ('NVD', 1),\n",
       "  ('error', 1),\n",
       "  ('sub-', 1),\n",
       "  ('is_version', 1),\n",
       "  ('harmless', 1),\n",
       "  ('metrics', 1),\n",
       "  ('user', 1),\n",
       "  ('format', 1),\n",
       "  ('argument', 1),\n",
       "  ('library', 1),\n",
       "  ('xmlRecoverDoc', 1),\n",
       "  ('set', 1)],\n",
       " 'X': [('>', 2665),\n",
       "  ('7.5.</s', 258),\n",
       "  ('6.4.</s', 112),\n",
       "  ('4.4.</s', 70),\n",
       "  ('4.2.</s', 53),\n",
       "  ('7.8.</s', 52),\n",
       "  ('4.6.</s', 44),\n",
       "  ('4.9.</s', 42),\n",
       "  ('5.4.</s', 41),\n",
       "  ('4.7.</s', 40),\n",
       "  ('7.1.</s', 20),\n",
       "  ('7.3.</s', 18),\n",
       "  ('8.5.</s', 17),\n",
       "  ('7.2.</s', 16),\n",
       "  ('9.3.</s', 13),\n",
       "  ('2.3.</s', 10),\n",
       "  ('6.6.</s', 9),\n",
       "  ('3.4.</s', 9),\n",
       "  ('2.8.</s', 9),\n",
       "  ('2.4.</s', 7),\n",
       "  ('1.9.</s', 6),\n",
       "  ('0.0.</s', 6),\n",
       "  ('8.2.</s', 5),\n",
       "  ('0.8.</s', 5),\n",
       "  ('0.5.</s', 4),\n",
       "  ('medium.</s', 3),\n",
       "  ('2.0.</s', 3),\n",
       "  ('1.5.</s', 2),\n",
       "  ('8.8.</s', 1),\n",
       "  ('1.3.</s', 1),\n",
       "  ('0.1.</s', 1),\n",
       "  ('0.3.</s', 1),\n",
       "  ('0.6.</s', 1),\n",
       "  ('0.4.</s', 1),\n",
       "  ('5.9.</s', 1),\n",
       "  ('ACodec::PortDescription::countBuffers', 1),\n",
       "  ('7.7.</s', 1),\n",
       "  ('0.9.</s', 1),\n",
       "  ('jbig2_get_int16(const', 1),\n",
       "  ('N/', 1)],\n",
       " 'ADJ': [('CVSS', 8845),\n",
       "  ('given', 1439),\n",
       "  ('vulnerable', 640),\n",
       "  ('low', 485),\n",
       "  ('medium', 300),\n",
       "  ('base', 299),\n",
       "  ('high', 220),\n",
       "  ('vulner', 101),\n",
       "  ('medium-', 81),\n",
       "  ('moderate', 76),\n",
       "  ('low-', 64),\n",
       "  ('highest', 43),\n",
       "  ('potential', 40),\n",
       "  ('critical', 32),\n",
       "  ('valid', 25),\n",
       "  ('false', 24),\n",
       "  ('provided', 23),\n",
       "  ('possible', 23),\n",
       "  ('Low', 22),\n",
       "  ('following', 21),\n",
       "  ('lowest', 19),\n",
       "  ('likely', 19),\n",
       "  ('simple', 18),\n",
       "  ('void', 17),\n",
       "  ('known', 16),\n",
       "  ('remote', 9),\n",
       "  ('available', 9),\n",
       "  ('positive', 8),\n",
       "  ('High', 7),\n",
       "  ('safe', 5),\n",
       "  ('virtual', 5),\n",
       "  ('metric', 5),\n",
       "  ('able', 5),\n",
       "  ('Critical', 5),\n",
       "  ('kernel_listen', 4),\n",
       "  ('maximum', 4),\n",
       "  ('informational', 4),\n",
       "  ('single', 3),\n",
       "  ('trivial', 3),\n",
       "  ('legitimate', 3),\n",
       "  ('applicable', 3),\n",
       "  ('logical', 3),\n",
       "  ('null', 3),\n",
       "  ('smb', 2),\n",
       "  ('incomplete', 2),\n",
       "  ('omx_video::omx_cmd_queue', 2),\n",
       "  ('sorry', 2),\n",
       "  ('non', 2),\n",
       "  ('large', 2),\n",
       "  ('hard', 2),\n",
       "  ('secure', 1),\n",
       "  ('extreme', 1),\n",
       "  ('arithmetic', 1),\n",
       "  ('generic', 1),\n",
       "  ('functional', 1),\n",
       "  ('sever', 1),\n",
       "  ('initial', 1),\n",
       "  ('good', 1),\n",
       "  ('type-', 1),\n",
       "  ('important', 1),\n",
       "  ('exitFull', 1),\n",
       "  ('callback', 1),\n",
       "  ('weak', 1),\n",
       "  ('correct', 1),\n",
       "  ('boolean', 1),\n",
       "  ('current', 1),\n",
       "  ('double', 1),\n",
       "  ('aware', 1),\n",
       "  ('specific', 1),\n",
       "  ('pure', 1),\n",
       "  ('variable', 1),\n",
       "  ('dummy', 1),\n",
       "  ('flush', 1),\n",
       "  ('flush_packet', 1),\n",
       "  ('constant', 1)],\n",
       " 'VERB': [('following', 5448),\n",
       "  ('provided', 694),\n",
       "  ('contain', 655),\n",
       "  ('contains', 524),\n",
       "  ('indicates', 328),\n",
       "  ('means', 146),\n",
       "  ('indicating', 140),\n",
       "  ('appears', 85),\n",
       "  ('considered', 64),\n",
       "  ('based', 61),\n",
       "  ('related', 39),\n",
       "  ('known', 27),\n",
       "  ('appear', 18),\n",
       "  ('returns', 12),\n",
       "  ('takes', 11),\n",
       "  ('apologize', 8),\n",
       "  ('provide', 7),\n",
       "  ('named', 6),\n",
       "  ('determine', 6),\n",
       "  ('given', 5),\n",
       "  ('exploited', 4),\n",
       "  ('uses', 4),\n",
       "  ('perform', 3),\n",
       "  ('cifs_sb_master_tlink', 3),\n",
       "  ('called', 3),\n",
       "  ('associated', 2),\n",
       "  ('affect', 2),\n",
       "  ('implemented', 2),\n",
       "  ('caused', 2),\n",
       "  ('according', 2),\n",
       "  ('CGaiaCredentialBase::CGaiaCred', 1),\n",
       "  ('creates', 1),\n",
       "  ('result', 1),\n",
       "  ('reported', 1),\n",
       "  ('represent', 1),\n",
       "  ('depending', 1),\n",
       "  ('suscept', 1),\n",
       "  ('returning', 1),\n",
       "  ('marked', 1),\n",
       "  ('initializes', 1),\n",
       "  ('initializing', 1),\n",
       "  ('retrieves', 1),\n",
       "  ('trigger', 1),\n",
       "  ('calls', 1),\n",
       "  ('sever', 1),\n",
       "  ('smbXcli', 1),\n",
       "  ('written', 1),\n",
       "  ('exposing', 1),\n",
       "  ('note', 1),\n",
       "  ('moderate', 1),\n",
       "  ('hardcoded', 1),\n",
       "  ('identified', 1),\n",
       "  ('checking', 1),\n",
       "  ('checks', 1),\n",
       "  ('programmed', 1),\n",
       "  ('respond', 1),\n",
       "  ('hid', 1),\n",
       "  ('modifies', 1),\n",
       "  ('evaluated', 1),\n",
       "  ('stored', 1),\n",
       "  ('prints', 1),\n",
       "  ('set', 1),\n",
       "  ('determined', 1),\n",
       "  ('declares', 1),\n",
       "  ('intended', 1),\n",
       "  ('void', 1),\n",
       "  ('performed', 1),\n",
       "  ('met', 1),\n",
       "  ('allows', 1),\n",
       "  ('meant', 1),\n",
       "  ('coding', 1)],\n",
       " 'PUNCT': [(',', 3131),\n",
       "  ('.', 3067),\n",
       "  ('`', 293),\n",
       "  ('(', 237),\n",
       "  (')', 161),\n",
       "  (':', 86),\n",
       "  ('\"', 46),\n",
       "  ('-', 44),\n",
       "  ('{', 20),\n",
       "  ('}', 15),\n",
       "  ('_', 5),\n",
       "  ('*', 4),\n",
       "  (';', 3),\n",
       "  ('PaymentHandlerWebFlowViewController::~PaymentHandler', 2),\n",
       "  ('exitFullscreen', 1),\n",
       "  ('>', 1),\n",
       "  ('UsbGetUserSelectedDevicesFunction::~Us', 1)],\n",
       " 'NUM': [('0.0', 1180),\n",
       "  ('4.3', 937),\n",
       "  ('7.5', 548),\n",
       "  ('4.3.</s', 417),\n",
       "  ('6.8', 414),\n",
       "  ('6.8.</s', 262),\n",
       "  ('6.5', 224),\n",
       "  ('6.4', 220),\n",
       "  ('0', 203),\n",
       "  ('6.5.</s', 189),\n",
       "  ('4.2', 177),\n",
       "  ('4.4', 162),\n",
       "  ('4.1', 154),\n",
       "  ('5.0', 122),\n",
       "  ('6.1.</s', 114),\n",
       "  ('4.5', 108),\n",
       "  ('5.4', 103),\n",
       "  ('4.9', 98),\n",
       "  ('5.3', 96),\n",
       "  ('6.1', 94),\n",
       "  ('4.5.</s', 80),\n",
       "  ('4.1.</s', 76),\n",
       "  ('5.3.</s', 62),\n",
       "  ('4.0', 59),\n",
       "  ('7.8', 54),\n",
       "  ('10.0', 53),\n",
       "  ('4.7', 52),\n",
       "  ('6.4.</s', 52),\n",
       "  ('4.6', 51),\n",
       "  ('5.5', 43),\n",
       "  ('5.8', 37),\n",
       "  ('8.5', 37),\n",
       "  ('6.3', 35),\n",
       "  ('6.3.</s', 32),\n",
       "  ('5.0.</s', 32),\n",
       "  ('5.9.</s', 31),\n",
       "  ('0.8', 31),\n",
       "  ('8.1', 27),\n",
       "  ('5.6.</s', 26),\n",
       "  ('9.3', 26),\n",
       "  ('8.1.</s', 25),\n",
       "  ('4.8.</s', 25),\n",
       "  ('8.8', 25),\n",
       "  ('2.1', 25),\n",
       "  ('6.7.</s', 24),\n",
       "  ('8.4', 24),\n",
       "  ('5.6', 24),\n",
       "  ('4.8', 24),\n",
       "  ('7.1', 24),\n",
       "  ('8.3', 23),\n",
       "  ('5.8.</s', 22),\n",
       "  ('6.7', 22),\n",
       "  ('5.5.</s', 21),\n",
       "  ('8.3.</s', 20),\n",
       "  ('4.0.</s', 20),\n",
       "  ('5.2', 20),\n",
       "  ('7.2', 19),\n",
       "  ('2.5', 18),\n",
       "  ('2.6', 17),\n",
       "  ('3.1', 17),\n",
       "  ('2.8', 17),\n",
       "  ('5.9', 17),\n",
       "  ('9.8', 17),\n",
       "  ('2.0', 16),\n",
       "  ('8.8.</s', 15),\n",
       "  ('0.1', 15),\n",
       "  ('7.3', 15),\n",
       "  ('0.5', 14),\n",
       "  ('3.4', 14),\n",
       "  ('8.2', 14),\n",
       "  ('7.4', 14),\n",
       "  ('3.1.</s', 14),\n",
       "  ('3.9.</s', 13),\n",
       "  ('3.9', 12),\n",
       "  ('3.8.</s', 11),\n",
       "  ('6.2.</s', 10),\n",
       "  ('6.2', 10),\n",
       "  ('8.6', 10),\n",
       "  ('1.3', 10),\n",
       "  ('2.3', 10),\n",
       "  ('1.0', 10),\n",
       "  ('4', 9),\n",
       "  ('5.1', 9),\n",
       "  ('2.2', 9),\n",
       "  ('2.5.</s', 9),\n",
       "  ('5.1.</s', 8),\n",
       "  ('2.1.</s', 8),\n",
       "  ('1.4', 8),\n",
       "  ('8.6.</s', 8),\n",
       "  ('2.9', 7),\n",
       "  ('3.5', 7),\n",
       "  ('2.9.</s', 7),\n",
       "  ('1.5', 7),\n",
       "  ('6', 7),\n",
       "  ('1.8', 6),\n",
       "  ('3.7', 6),\n",
       "  ('5.2.</s', 6),\n",
       "  ('5', 6),\n",
       "  ('8.4.</s', 6),\n",
       "  ('2.7', 6),\n",
       "  ('2.4', 6),\n",
       "  ('1.1', 6),\n",
       "  ('6.6', 5),\n",
       "  ('7', 5),\n",
       "  ('0.3', 5),\n",
       "  ('7.7', 5),\n",
       "  ('9.1.</s', 5),\n",
       "  ('3.5.</s', 5),\n",
       "  ('3.6', 5),\n",
       "  ('6.9.</s', 5),\n",
       "  ('6.9', 4),\n",
       "  ('2.6.</s', 4),\n",
       "  ('3.8', 4),\n",
       "  ('9.0', 4),\n",
       "  ('2.7.</s', 4),\n",
       "  ('1.6', 4),\n",
       "  ('9.0.</s', 4),\n",
       "  ('7.9.</s', 3),\n",
       "  ('2.2.</s', 3),\n",
       "  ('1.1.</s', 3),\n",
       "  ('0.7', 3),\n",
       "  ('5.7', 3),\n",
       "  ('3.3', 3),\n",
       "  ('1.9', 3),\n",
       "  ('1.2', 3),\n",
       "  ('zero', 2),\n",
       "  ('9.1', 2),\n",
       "  ('1.7', 2),\n",
       "  ('8.7', 2),\n",
       "  ('4.4.</s', 2),\n",
       "  ('DoNothing(void', 2),\n",
       "  ('7.0.</s', 2),\n",
       "  ('7.0', 2),\n",
       "  ('8.9', 2),\n",
       "  ('1.6.</s', 2),\n",
       "  ('2', 1),\n",
       "  ('8', 1),\n",
       "  ('9.5', 1),\n",
       "  ('3', 1),\n",
       "  ('8.0', 1),\n",
       "  ('3.6.</s', 1),\n",
       "  ('9.7', 1),\n",
       "  ('exitFullScreen', 1),\n",
       "  ('1.2.</s', 1),\n",
       "  ('Launcher::~Launcher', 1),\n",
       "  ('0.4', 1),\n",
       "  ('8.9.</s', 1),\n",
       "  ('7.6.</s', 1),\n",
       "  ('6.0', 1),\n",
       "  ('9.6', 1),\n",
       "  ('emergency_restart(void', 1),\n",
       "  ('4.7.</s', 1),\n",
       "  ('_', 1),\n",
       "  ('1', 1),\n",
       "  ('3.7.</s', 1),\n",
       "  ('9', 1)],\n",
       " 'PROPN': [('Base', 94),\n",
       "  ('Score', 86),\n",
       "  ('AC', 41),\n",
       "  ('N', 40),\n",
       "  ('AV', 35),\n",
       "  ('CVSS', 24),\n",
       "  ('Medium', 22),\n",
       "  ('Medium).</s', 22),\n",
       "  ('4.2.</s', 12),\n",
       "  ('7.4.</s', 11),\n",
       "  ('Linux', 8),\n",
       "  ('Sc', 8),\n",
       "  ('kernel_listen', 6),\n",
       "  ('Low', 5),\n",
       "  ('High', 5),\n",
       "  ('C++', 5),\n",
       "  ('SignatureUtil::~SignatureUtil', 5),\n",
       "  ('_', 4),\n",
       "  ('1.8.</s', 3),\n",
       "  ('gpk_restore_security_env(sc', 3),\n",
       "  ('gpk_restore_security_env', 3),\n",
       "  ('Histogram::Add(int', 3),\n",
       "  ('is_delimiter', 3),\n",
       "  ('MemoryObserver', 3),\n",
       "  ('uint64_t', 3),\n",
       "  ('received_page_id', 3),\n",
       "  ('DEFINE_INLINE_TRACE', 3),\n",
       "  ('xmlRecoverDoc', 3),\n",
       "  ('CVE', 2),\n",
       "  ('el', 2),\n",
       "  ('ContainerNode::hasRestyleFlagsInternal', 2),\n",
       "  ('mock_ui', 2),\n",
       "  ('XcursorImageDestroy', 2),\n",
       "  ('FrameView::wasScrolledByUser', 2),\n",
       "  ('AddCount', 2),\n",
       "  ('RemoveHistoryTester', 2),\n",
       "  ('InlineLoginUI::~InlineLoginUI', 2),\n",
       "  ('9.5.</s', 2),\n",
       "  ('emergency_restart', 2),\n",
       "  ('LayoutBlockFlow::~LayoutBlockFlow', 2),\n",
       "  ('PrintPreviewDataSource::~PrintPreviewDataSource', 2),\n",
       "  ('Metric', 1),\n",
       "  ('QQuickWebView::goBack', 1),\n",
       "  ('MockRenderThread::WidgetRestored', 1),\n",
       "  ('medium.</s', 1),\n",
       "  ('Access', 1),\n",
       "  ('Vector', 1),\n",
       "  ('bool', 1),\n",
       "  ('Bl', 1),\n",
       "  ('Bluet', 1),\n",
       "  ('WorkerProcessLauncher', 1),\n",
       "  ('SoundChannel::init', 1),\n",
       "  ('IsPopup', 1),\n",
       "  ('XcursorImage', 1),\n",
       "  ('NIST', 1),\n",
       "  ('smbXcli_conn_remote_name', 1),\n",
       "  ('isidchar(int', 1),\n",
       "  ('c', 1),\n",
       "  ('CPar', 1),\n",
       "  ('nfs4_free_open_state', 1),\n",
       "  ('do_mdmx', 1),\n",
       "  ('CL_ClientDamageCommand', 1),\n",
       "  ('Val', 1),\n",
       "  ('set_elapsed(base::TimeDelta', 1),\n",
       "  ('DoNothing', 1),\n",
       "  ('TestTarget', 1),\n",
       "  ('accelerator_pressed_count', 1),\n",
       "  ('Pdf', 1),\n",
       "  ('hid_snto32', 1),\n",
       "  ('Remove', 1),\n",
       "  ('0.</s', 1),\n",
       "  ('SSL_in_init(SSL', 1),\n",
       "  ('s', 1),\n",
       "  ('L', 1),\n",
       "  ('name_compare', 1),\n",
       "  ('WillStartOr', 1),\n",
       "  ('ACodec', 1),\n",
       "  ('ACodec::PortDescription::countBuffers', 1),\n",
       "  ('Launcher::~Launcher', 1),\n",
       "  ('SYSCALL_DEFINE2(listen', 1),\n",
       "  ('3.3.</s', 1),\n",
       "  ('Severity', 1),\n",
       "  ('GpuListenerInfo', 1),\n",
       "  ('PermissionsRequestFunction::PermissionsRequestFunction', 1),\n",
       "  ('CVSS:3.0', 1),\n",
       "  ('Open', 1),\n",
       "  ('low.</s', 1),\n",
       "  ('Browser::PrepareForInstant', 1),\n",
       "  ('RTCVoidRequestImpl::~RTCV', 1),\n",
       "  ('TestDid', 1),\n",
       "  ('String', 1),\n",
       "  ('jas_tmr_stop(jas', 1),\n",
       "  ('WebsiteSettingsPopupAndroid::~WebsiteSettings', 1),\n",
       "  ('SYSCALL_DEFINE1(pipe', 1),\n",
       "  ('clp', 1),\n",
       "  ('SQL', 1),\n",
       "  ('PDFiumEngine::KillFormFocus', 1),\n",
       "  ('js_getglobal', 1),\n",
       "  ('libxml2', 1),\n",
       "  ('xmlRecoverDoc(const', 1),\n",
       "  ('xmlChar', 1),\n",
       "  ('cur', 1)],\n",
       " 'ADV': [('relatively', 23),\n",
       "  ('low', 14),\n",
       "  ('simply', 9),\n",
       "  ('possibly', 2),\n",
       "  ('high', 2),\n",
       "  ('purely', 1),\n",
       "  ('specifically', 1),\n",
       "  ('moderately', 1),\n",
       "  ('extremely', 1),\n",
       "  ('actually', 1)],\n",
       " 'SPACE': [('\\n\\n', 226), ('\\n', 9)],\n",
       " 'SYM': [('/', 41), ('*', 1)],\n",
       " 'PRON': [('r', 1), ('nonpaging_invl', 1)],\n",
       " 'ADP': [('texture_context', 2),\n",
       "  ('ftr', 1),\n",
       "  ('LocalDOMWindow::setStatus(const', 1)],\n",
       " 'PART': [('`', 2)],\n",
       " 'CCONJ': [('&', 1)]}"
      ]
     },
     "execution_count": 18,
     "metadata": {},
     "output_type": "execute_result"
    }
   ],
   "source": [
    "b"
   ]
  },
  {
   "cell_type": "code",
   "execution_count": 19,
   "metadata": {},
   "outputs": [],
   "source": [
    "verbs = b['NOUN']"
   ]
  },
  {
   "cell_type": "code",
   "execution_count": 20,
   "metadata": {},
   "outputs": [
    {
     "data": {
      "text/plain": [
       "[('snippet', 9705),\n",
       " ('score', 9274),\n",
       " ('vulnerability', 521),\n",
       " ('code', 504),\n",
       " ('vulner', 442),\n",
       " ('sever', 372),\n",
       " ('function', 311),\n",
       " ('risk', 241),\n",
       " ('severity', 178),\n",
       " ('buffer', 108),\n",
       " ('base', 87),\n",
       " ('vulnerabilities', 64),\n",
       " ('overflow', 61),\n",
       " ('CV', 58),\n",
       " ('Medium', 55),\n",
       " ('memory', 54),\n",
       " ('security', 45),\n",
       " ('vector', 44),\n",
       " ('potential', 44),\n",
       " ('medium', 44),\n",
       " ('use', 35),\n",
       " ('destruct', 32),\n",
       " ('method', 29),\n",
       " ('se', 27),\n",
       " ('high-', 22),\n",
       " ('level', 22),\n",
       " ('9.8.</s', 21),\n",
       " ('attack', 19),\n",
       " ('destructor', 18),\n",
       " ('AV', 17),\n",
       " ('information', 17),\n",
       " ('constructor', 15),\n",
       " ('rating', 14),\n",
       " ('impact', 14),\n",
       " ('CVSS:3', 13),\n",
       " ('safety', 12),\n",
       " ('class', 12),\n",
       " ('definition', 10),\n",
       " ('issues', 10),\n",
       " ('reason', 9),\n",
       " ('leak', 9),\n",
       " ('pointer', 9),\n",
       " ('factors', 9),\n",
       " ('DocumentLoader::stopLoadingSubresources', 9),\n",
       " ('CVSS', 8),\n",
       " ('int', 7),\n",
       " ('kernel', 7),\n",
       " ('10.0.</s', 7),\n",
       " ('issue', 6),\n",
       " ('ben', 6),\n",
       " ('test', 6),\n",
       " ('value', 6),\n",
       " ('moder', 6),\n",
       " ('explo', 5),\n",
       " ('declaration', 5),\n",
       " ('type', 5),\n",
       " ('legit', 5),\n",
       " ('_', 5),\n",
       " ('fact', 5),\n",
       " ('gpk_restore_security_env', 5),\n",
       " ('justification', 5),\n",
       " ('Base', 5),\n",
       " ('onig_get_options', 5),\n",
       " ('flags', 4),\n",
       " ('factor', 4),\n",
       " ('criteria', 4),\n",
       " ('implementation', 4),\n",
       " ('exploits', 4),\n",
       " ('C', 4),\n",
       " ('har', 4),\n",
       " ('heap', 4),\n",
       " ('dis', 4),\n",
       " ('Camera3Device::getId', 4),\n",
       " ('stub', 4),\n",
       " ('low.</s', 4),\n",
       " ('non', 4),\n",
       " ('return', 3),\n",
       " ('exploit', 3),\n",
       " ('use-', 3),\n",
       " ('unit', 3),\n",
       " ('score.</s', 3),\n",
       " ('details', 3),\n",
       " ('following', 3),\n",
       " ('*', 3),\n",
       " ('v', 3),\n",
       " ('static', 3),\n",
       " ('string', 3),\n",
       " ('example', 3),\n",
       " ('risks', 3),\n",
       " ('frameCount', 3),\n",
       " ('imp', 3),\n",
       " ('stack', 3),\n",
       " ('ris', 3),\n",
       " ('number', 3),\n",
       " ('cor', 3),\n",
       " ('UsbTransferFunction::~UsbTransfer', 3),\n",
       " ('getter', 2),\n",
       " ('const', 2),\n",
       " ('integer', 2),\n",
       " ('version', 2),\n",
       " ('attacks', 2),\n",
       " ('case', 2),\n",
       " ('SoundChannel::init', 2),\n",
       " ('C++', 2),\n",
       " ('member', 2),\n",
       " ('metric', 2),\n",
       " ('CL_ClientDamageCommand', 2),\n",
       " ('Textfield::GetTextInputFlags', 2),\n",
       " ('null', 2),\n",
       " ('piece', 2),\n",
       " ('RemoveHistoryTester', 2),\n",
       " ('m_frameCount', 2),\n",
       " ('-', 2),\n",
       " ('path_put', 2),\n",
       " ('path', 2),\n",
       " ('clientHasPendingReplies(client', 2),\n",
       " ('c', 2),\n",
       " ('language', 2),\n",
       " ('model', 2),\n",
       " ('comment', 2),\n",
       " ('explanation', 2),\n",
       " ('macro', 2),\n",
       " ('wrapper', 2),\n",
       " ('HTMLMediaElement::SetSrc', 2),\n",
       " ('analysis', 2),\n",
       " ('V', 1),\n",
       " ('innoc', 1),\n",
       " ('real-', 1),\n",
       " ('reasons', 1),\n",
       " ('str_init', 1),\n",
       " ('keyword', 1),\n",
       " ('instruction', 1),\n",
       " ('multiplication', 1),\n",
       " ('denial', 1),\n",
       " ('exploitable', 1),\n",
       " ('codebase', 1),\n",
       " ('data', 1),\n",
       " ('practice', 1),\n",
       " ('g', 1),\n",
       " ('~Mock', 1),\n",
       " ('NULL', 1),\n",
       " ('Severity', 1),\n",
       " ('Open', 1),\n",
       " ('confusion', 1),\n",
       " ('Browser', 1),\n",
       " ('webkit', 1),\n",
       " ('image', 1),\n",
       " ('Xcursor', 1),\n",
       " ('criticality', 1),\n",
       " ('check', 1),\n",
       " ('struct', 1),\n",
       " ('untr', 1),\n",
       " ('smbXcli_conn_remote_name', 1),\n",
       " ('f', 1),\n",
       " ('isidchar', 1),\n",
       " ('errors', 1),\n",
       " ('dut_mode_rec', 1),\n",
       " ('dereference', 1),\n",
       " ('dut', 1),\n",
       " ('scores', 1),\n",
       " ('controller', 1),\n",
       " ('BackendIO::DoomAllEntries', 1),\n",
       " ('arch_ftrace_update_code', 1),\n",
       " ('sus', 1),\n",
       " ('frame', 1),\n",
       " ('is_main', 1),\n",
       " ('Histogram::Add', 1),\n",
       " ('reasoning', 1),\n",
       " ('presence', 1),\n",
       " ('public', 1),\n",
       " ('fict', 1),\n",
       " ('Crit', 1),\n",
       " ('is_delimiter', 1),\n",
       " ('will_process', 1),\n",
       " ('path_put(struct', 1),\n",
       " ('char', 1),\n",
       " ('array', 1),\n",
       " ('pointers', 1),\n",
       " ('Information', 1),\n",
       " ('scoring', 1),\n",
       " ('system', 1),\n",
       " ('9.6.</s', 1),\n",
       " ('context', 1),\n",
       " ('Ch', 1),\n",
       " ('ChromeContentRendererClient::~ChromeContentRenderer', 1),\n",
       " ('threats', 1),\n",
       " ('elements', 1),\n",
       " ('indication', 1),\n",
       " ('extension', 1),\n",
       " ('execution', 1),\n",
       " ('subsc', 1),\n",
       " ('gf_mktime_utc', 1),\n",
       " ('Memory', 1),\n",
       " ('ImmersiveFullscreenController', 1),\n",
       " ('TabStripModel', 1),\n",
       " ('XSS', 1),\n",
       " ('disclosure', 1),\n",
       " ('attacker', 1),\n",
       " ('unr', 1),\n",
       " ('jbig2_get_int16', 1),\n",
       " ('complexity', 1),\n",
       " ('signature', 1),\n",
       " ('va_arg', 1),\n",
       " ('custom', 1),\n",
       " ('emergency_restart', 1),\n",
       " ('emergency', 1),\n",
       " ('r', 1),\n",
       " ('placeholder', 1),\n",
       " ('NVD', 1),\n",
       " ('error', 1),\n",
       " ('sub-', 1),\n",
       " ('is_version', 1),\n",
       " ('harmless', 1),\n",
       " ('metrics', 1),\n",
       " ('user', 1),\n",
       " ('format', 1),\n",
       " ('argument', 1),\n",
       " ('library', 1),\n",
       " ('xmlRecoverDoc', 1),\n",
       " ('set', 1)]"
      ]
     },
     "execution_count": 20,
     "metadata": {},
     "output_type": "execute_result"
    }
   ],
   "source": [
    "verbs"
   ]
  },
  {
   "cell_type": "code",
   "execution_count": 53,
   "metadata": {},
   "outputs": [],
   "source": [
    "b1 = verbs[:5]"
   ]
  },
  {
   "cell_type": "code",
   "execution_count": 54,
   "metadata": {},
   "outputs": [],
   "source": [
    "frequencies = []\n",
    "for value, freq in b1:\n",
    "    frequencies.extend([value] * freq)"
   ]
  },
  {
   "cell_type": "code",
   "execution_count": 40,
   "metadata": {},
   "outputs": [],
   "source": [
    "frequencies = []\n",
    "for value, freq in a.items():\n",
    "    frequencies.extend([value] * freq)"
   ]
  },
  {
   "cell_type": "code",
   "execution_count": 55,
   "metadata": {},
   "outputs": [
    {
     "data": {
      "text/plain": [
       "(array([2828., 2820., 1065.,  483.,  397.]),\n",
       " array([0. , 0.8, 1.6, 2.4, 3.2, 4. ]),\n",
       " <BarContainer object of 5 artists>)"
      ]
     },
     "execution_count": 55,
     "metadata": {},
     "output_type": "execute_result"
    },
    {
     "data": {
      "image/png": "[encoded data removed]",
      "text/plain": [
       "<Figure size 640x480 with 1 Axes>"
      ]
     },
     "metadata": {},
     "output_type": "display_data"
    }
   ],
   "source": [
    "plt.hist(frequencies, bins=len(b1), color='darkblue', edgecolor='black')\n"
   ]
  },
  {
   "cell_type": "code",
   "execution_count": 89,
   "metadata": {},
   "outputs": [
    {
     "name": "stdout",
     "output_type": "stream",
     "text": [
      "Average: 35.61715277777778\n",
      "Standard Deviation: 24.07645583498288\n",
      "Standard Deviation: 10.121553175382367\n",
      "mean gt scores: 6.327272727272727\n",
      "std gt scores: 1.684019852915569\n"
     ]
    }
   ],
   "source": [
    "print(\"Average:\", np.nanmean(avg))\n",
    "print(\"Standard Deviation:\", np.nanstd(avg))\n",
    "print(\"Standard Deviation:\", np.nanmean(std))\n",
    "print(\"mean gt scores:\", np.mean(gt_scores))\n",
    "print(\"std gt scores:\", np.std(gt_scores))"
   ]
  },
  {
   "cell_type": "code",
   "execution_count": 47,
   "metadata": {},
   "outputs": [
    {
     "name": "stdout",
     "output_type": "stream",
     "text": [
      "[6.8]\n"
     ]
    }
   ],
   "source": [
    "np.median(gt_scores)\n"
   ]
  },
  {
   "cell_type": "code",
   "execution_count": 48,
   "metadata": {},
   "outputs": [
    {
     "name": "stdout",
     "output_type": "stream",
     "text": [
      "[6.8]\n"
     ]
    }
   ],
   "source": [
    "counts = Counter(gt_scores)\n",
    "modes = [k for k, v in counts.items() if v == max(counts.values())]\n",
    "print(modes)"
   ]
  },
  {
   "cell_type": "code",
   "execution_count": 30,
   "metadata": {},
   "outputs": [
    {
     "data": {
      "text/plain": [
       "[9.0,\n",
       " 1.6899999999999995,\n",
       " 0.49000000000000027,\n",
       " 1.0,\n",
       " 25.0,\n",
       " 0.1599999999999996,\n",
       " 30.805,\n",
       " 0.3599999999999996,\n",
       " 2.8900000000000006,\n",
       " 1.9599999999999997,\n",
       " 0.04000000000000007,\n",
       " 2.25,\n",
       " 1.4400000000000004,\n",
       " 10.889999999999993,\n",
       " 7.0249999999999995,\n",
       " 5.0649999999999995,\n",
       " 8.410000000000002,\n",
       " 0.0899999999999999,\n",
       " 0.20500000000000013,\n",
       " 1.565,\n",
       " 1.0,\n",
       " 1.2200000000000002,\n",
       " 1.0,\n",
       " 10.240000000000002,\n",
       " 6.25,\n",
       " 18.49,\n",
       " 2.7249999999999996,\n",
       " 25.00000000000001,\n",
       " 6.25,\n",
       " 1.4400000000000004,\n",
       " 0.6400000000000011,\n",
       " 6.250000000000004,\n",
       " 4.409999999999998,\n",
       " 29.160000000000004,\n",
       " 18.085,\n",
       " 0.6400000000000011,\n",
       " 6.25,\n",
       " 3.2399999999999993,\n",
       " 2.302449999999999,\n",
       " 16.81,\n",
       " 0.09000000000000043,\n",
       " 6.25,\n",
       " 0.49000000000000027,\n",
       " 0.25,\n",
       " 19.865000000000002,\n",
       " 0.6399999999999997,\n",
       " 3.2399999999999993,\n",
       " 3.2399999999999993,\n",
       " 0.04000000000000007,\n",
       " 4.0,\n",
       " 6.250000000000003,\n",
       " 0.49000000000000027,\n",
       " 0.49000000000000027,\n",
       " 1.0,\n",
       " 0.36000000000000065,\n",
       " 1.625,\n",
       " 6.25,\n",
       " 0.3599999999999996,\n",
       " 4.42,\n",
       " 17.64,\n",
       " 31.359999999999996,\n",
       " 1.0,\n",
       " 40.96000000000001,\n",
       " 21.94,\n",
       " 0.16000000000000028,\n",
       " 9.0,\n",
       " 5.760000000000002,\n",
       " 1.565,\n",
       " 0.625,\n",
       " 1.0,\n",
       " 9.0,\n",
       " 0.49000000000000027,\n",
       " 6.25,\n",
       " 0.49000000000000027,\n",
       " 1.0,\n",
       " 1.6899999999999995,\n",
       " 6.25,\n",
       " 0.0899999999999999,\n",
       " 3.2399999999999993,\n",
       " 1.0,\n",
       " 0.49000000000000027,\n",
       " 0.06499999999999999,\n",
       " 5.525000000000002,\n",
       " 6.25,\n",
       " 0.010000000000000106,\n",
       " 34.81,\n",
       " 6.759999999999998,\n",
       " 0.3599999999999996,\n",
       " 0.16000000000000028,\n",
       " 0.3599999999999996,\n",
       " 6.25,\n",
       " 8.410000000000002,\n",
       " 1.0,\n",
       " 5.299999999999999,\n",
       " 9.0,\n",
       " 6.005000000000001,\n",
       " 32.49,\n",
       " 4.840000000000001,\n",
       " 6.759999999999998]"
      ]
     },
     "execution_count": 30,
     "metadata": {},
     "output_type": "execute_result"
    }
   ],
   "source": [
    "avg"
   ]
  },
  {
   "cell_type": "code",
   "execution_count": 17,
   "metadata": {},
   "outputs": [],
   "source": [
    "from numpy import isnan\n",
    "from pandas import read_csv\n",
    "from sklearn.impute import SimpleImputer\n",
    "# load dataset\n",
    "url = 'https://raw.githubusercontent.com/jbrownlee/Datasets/master/horse-colic.csv'\n",
    "dataframe = read_csv(url, header=None, na_values='?')\n",
    "# split into input and output elements\n",
    "data2 = dataframe.values\n"
   ]
  },
  {
   "cell_type": "code",
   "execution_count": 18,
   "metadata": {},
   "outputs": [
    {
     "data": {
      "text/plain": [
       "array([[2.00000e+00, 1.00000e+00, 5.30101e+05, ..., 0.00000e+00,\n",
       "        0.00000e+00, 2.00000e+00],\n",
       "       [1.00000e+00, 1.00000e+00, 5.34817e+05, ..., 0.00000e+00,\n",
       "        0.00000e+00, 2.00000e+00],\n",
       "       [2.00000e+00, 1.00000e+00, 5.30334e+05, ..., 0.00000e+00,\n",
       "        0.00000e+00, 1.00000e+00],\n",
       "       ...,\n",
       "       [1.00000e+00, 1.00000e+00, 5.29386e+05, ..., 0.00000e+00,\n",
       "        0.00000e+00, 2.00000e+00],\n",
       "       [1.00000e+00, 1.00000e+00, 5.30612e+05, ..., 0.00000e+00,\n",
       "        0.00000e+00, 1.00000e+00],\n",
       "       [1.00000e+00, 1.00000e+00, 5.34618e+05, ..., 0.00000e+00,\n",
       "        0.00000e+00, 2.00000e+00]])"
      ]
     },
     "execution_count": 18,
     "metadata": {},
     "output_type": "execute_result"
    }
   ],
   "source": [
    "data2"
   ]
  },
  {
   "cell_type": "code",
   "execution_count": 19,
   "metadata": {},
   "outputs": [
    {
     "name": "stdout",
     "output_type": "stream",
     "text": [
      "Missing: 1605\n"
     ]
    }
   ],
   "source": [
    "ix = [i for i in range(data2.shape[1]) if i != 23]\n",
    "X, y = data2[:, ix], data2[:, 23]\n",
    "# print total missing\n",
    "print('Missing: %d' % sum(isnan(X).flatten()))\n"
   ]
  },
  {
   "cell_type": "code",
   "execution_count": 24,
   "metadata": {},
   "outputs": [
    {
     "data": {
      "text/plain": [
       "array([2.00000e+00, 1.00000e+00, 5.30101e+05, 3.85000e+01, 6.60000e+01,\n",
       "       2.80000e+01, 3.00000e+00, 3.00000e+00,         nan, 2.00000e+00,\n",
       "       5.00000e+00, 4.00000e+00, 4.00000e+00,         nan,         nan,\n",
       "               nan, 3.00000e+00, 5.00000e+00, 4.50000e+01, 8.40000e+00,\n",
       "               nan,         nan, 2.00000e+00, 1.13000e+04, 0.00000e+00,\n",
       "       0.00000e+00, 2.00000e+00])"
      ]
     },
     "execution_count": 24,
     "metadata": {},
     "output_type": "execute_result"
    }
   ],
   "source": [
    "X[0]"
   ]
  },
  {
   "cell_type": "code",
   "execution_count": 22,
   "metadata": {},
   "outputs": [],
   "source": [
    "# define imputer\n",
    "imputer = SimpleImputer(strategy='mean')\n",
    "# fit on the dataset\n",
    "imputer.fit(X)\n",
    "# transform the dataset\n",
    "Xtrans = imputer.transform(X)\n",
    "# print total missing"
   ]
  },
  {
   "cell_type": "code",
   "execution_count": 25,
   "metadata": {},
   "outputs": [
    {
     "data": {
      "text/plain": [
       "array([2.00000000e+00, 1.00000000e+00, 5.30101000e+05, 3.85000000e+01,\n",
       "       6.60000000e+01, 2.80000000e+01, 3.00000000e+00, 3.00000000e+00,\n",
       "       2.85375494e+00, 2.00000000e+00, 5.00000000e+00, 4.00000000e+00,\n",
       "       4.00000000e+00, 1.75510204e+00, 1.58247423e+00, 4.70754717e+00,\n",
       "       3.00000000e+00, 5.00000000e+00, 4.50000000e+01, 8.40000000e+00,\n",
       "       2.03703704e+00, 3.01960784e+00, 2.00000000e+00, 1.13000000e+04,\n",
       "       0.00000000e+00, 0.00000000e+00, 2.00000000e+00])"
      ]
     },
     "execution_count": 25,
     "metadata": {},
     "output_type": "execute_result"
    }
   ],
   "source": [
    "Xtrans[0]"
   ]
  },
  {
   "cell_type": "code",
   "execution_count": 303,
   "metadata": {},
   "outputs": [],
   "source": [
    "test=[2,np.nan, 3, np.nan]"
   ]
  },
  {
   "cell_type": "code",
   "execution_count": 305,
   "metadata": {},
   "outputs": [
    {
     "data": {
      "text/plain": [
       "0"
      ]
     },
     "execution_count": 305,
     "metadata": {},
     "output_type": "execute_result"
    }
   ],
   "source": [
    "a=sum(1 for x in test if x < 0.0 or x > 10.0)\n",
    "a"
   ]
  },
  {
   "cell_type": "code",
   "execution_count": null,
   "metadata": {},
   "outputs": [],
   "source": []
  }
 ],
 "metadata": {
  "kernelspec": {
   "display_name": "Python 3",
   "language": "python",
   "name": "python3"
  },
  "language_info": {
   "codemirror_mode": {
    "name": "ipython",
    "version": 3
   },
   "file_extension": ".py",
   "mimetype": "text/x-python",
   "name": "python",
   "nbconvert_exporter": "python",
   "pygments_lexer": "ipython3",
   "version": "3.8.10"
  }
 },
 "nbformat": 4,
 "nbformat_minor": 2
}
